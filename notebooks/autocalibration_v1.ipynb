{
 "cells": [
  {
   "cell_type": "code",
   "execution_count": 1,
   "id": "e3936328",
   "metadata": {},
   "outputs": [],
   "source": [
    "# Set project root\n",
    "import os\n",
    "import sys\n",
    "\n",
    "# Manually set the path to the project root\n",
    "project_root = os.path.abspath(os.path.join(os.getcwd(), '..'))\n",
    "if project_root not in sys.path:\n",
    "    sys.path.append(project_root)"
   ]
  },
  {
   "cell_type": "code",
   "execution_count": 2,
   "id": "c837614f",
   "metadata": {},
   "outputs": [],
   "source": [
    "import matplotlib.pyplot as plt\n",
    "import numpy as np\n",
    "\n",
    "from src.geometry import (\n",
    "    compute_distance_from_homography,\n",
    "    derive_metric_homography,\n",
    ")\n",
    "from src.matching import template_match\n",
    "from src.measurement_data import load_measurements_from_yaml\n",
    "from src.utils import load_calibration_json"
   ]
  },
  {
   "cell_type": "code",
   "execution_count": 3,
   "id": "296cc67e",
   "metadata": {},
   "outputs": [],
   "source": [
    "# Load measurement data\n",
    "data = load_measurements_from_yaml(\"../assets/measurements.yaml\")\n",
    "\n",
    "# Load camera calibration\n",
    "K, dist_coeffs, image_size = load_calibration_json(\"../assets/camera_calibration.json\")\n",
    "\n",
    "scenes = data.get_all_scenes()"
   ]
  },
  {
   "cell_type": "code",
   "execution_count": 4,
   "id": "c49bf21c",
   "metadata": {},
   "outputs": [],
   "source": [
    "def invert_K(K):\n",
    "    \"\"\"Invert the camera intrinsic matrix K.\"\"\"\n",
    "    fx, fy = K[0, 0], K[1, 1]\n",
    "    cx, cy = K[0, 2], K[1, 2]\n",
    "    s =  K[0, 1]\n",
    "\n",
    "    return np.array(\n",
    "        [\n",
    "            [1 / fx, -s / (fx * fy), (s * cy - cx * fy) / (fx * fy)],\n",
    "            [0, 1 / fy, -cy / fy],\n",
    "            [0, 0, 1]\n",
    "        ]\n",
    "    )"
   ]
  },
  {
   "cell_type": "code",
   "execution_count": 5,
   "id": "a3cc7f21",
   "metadata": {},
   "outputs": [],
   "source": [
    "K_inv = invert_K(K)\n",
    "\n",
    "# Check that the inverse is correct\n",
    "assert np.allclose(np.dot(K, K_inv), np.eye(3)), \"Inverse of K is not correct\""
   ]
  },
  {
   "cell_type": "code",
   "execution_count": 6,
   "id": "56c7d85c",
   "metadata": {},
   "outputs": [
    {
     "data": {
      "text/plain": [
       "array([[894.67311331,   0.        , 485.2289589 ],\n",
       "       [  0.        , 896.1589482 , 633.03618469],\n",
       "       [  0.        ,   0.        ,   1.        ]])"
      ]
     },
     "execution_count": 6,
     "metadata": {},
     "output_type": "execute_result"
    }
   ],
   "source": [
    "K"
   ]
  },
  {
   "cell_type": "code",
   "execution_count": 7,
   "id": "332364ea",
   "metadata": {},
   "outputs": [],
   "source": [
    "# Homography for template T4\n",
    "homography_T4 = np.array([\n",
    "    [-0.17847302636271037, 0.23154580670332958, 318.610165400254],\n",
    "    [-0.22057531122839966, -0.1693379863214316, 884.8510156631432],\n",
    "    [4.816726125456617e-06, 1.5910372937632323e-05, 1.0]\n",
    "])\n",
    "\n",
    "# Homography for template T2\n",
    "homography_T2 = np.array([\n",
    "    [0.4350728790206812, 0.28880647750979427, 562.1676602052514],\n",
    "    [-0.2177196474457285, 0.5507672329687451, 387.02951199786924],\n",
    "    [-2.7309055511935735e-05, 0.00020572633668148338, 1.0]\n",
    "])\n",
    "\n",
    "# Homography for template T3\n",
    "homography_T3 = np.array([\n",
    "    [0.3039986433310253, -0.09182963405831032, 334.3373396385607],\n",
    "    [0.11501613666903568, 0.3284311476213451, 84.84437146194264],\n",
    "    [-1.2305953521946654e-05, 6.321638948067824e-05, 1.0]\n",
    "])"
   ]
  },
  {
   "cell_type": "code",
   "execution_count": 8,
   "id": "25178de2",
   "metadata": {},
   "outputs": [],
   "source": [
    "import numpy as np\n",
    "from typing import List, Tuple\n",
    "from scipy.linalg import svd, cholesky, eig, inv\n",
    "\n",
    "\n",
    "def solve_B_from_homographies(Hs: List[np.ndarray]) -> np.ndarray:\n",
    "    \"\"\"\n",
    "    Solve for the Dual Image of the Absolute Conic (DIAC) matrix B = K^{-T} K^{-1}\n",
    "    given a list of 3 homographies mapping known planar template coordinates to image pixels.\n",
    "\n",
    "    Each homography contributes two linear constraints on the symmetric B. We\n",
    "    assemble these into a 6x6 system A b = 0, solve via SVD, and reassemble B.\n",
    "    \"\"\"\n",
    "    A = []\n",
    "    for H in Hs:\n",
    "        h1, h2 = H[:,0], H[:,1]\n",
    "        # Constraint: h1^T B h2 = 0\n",
    "        A.append([\n",
    "            h1[0]*h2[0],\n",
    "            h1[0]*h2[1] + h1[1]*h2[0],\n",
    "            h1[1]*h2[1],\n",
    "            h1[0]*h2[2] + h1[2]*h2[0],\n",
    "            h1[1]*h2[2] + h1[2]*h2[1],\n",
    "            h1[2]*h2[2]\n",
    "        ])\n",
    "        # Constraint: h1^T B h1 = h2^T B h2\n",
    "        A.append([\n",
    "            h1[0]*h1[0] - h2[0]*h2[0],\n",
    "            2*(h1[0]*h1[1] - h2[0]*h2[1]),\n",
    "            h1[1]*h1[1] - h2[1]*h2[1],\n",
    "            2*(h1[0]*h1[2] - h2[0]*h2[2]),\n",
    "            2*(h1[1]*h1[2] - h2[1]*h2[2]),\n",
    "            h1[2]*h1[2] - h2[2]*h2[2]\n",
    "        ])\n",
    "    A = np.array(A)\n",
    "\n",
    "    # Solve A b = 0 by SVD; b is the last column of Vt\n",
    "    _, _, Vt = svd(A)\n",
    "    b = Vt[-1]\n",
    "    # Form B and normalize so B[2,2] = 1 (avoid divide-by-zero)\n",
    "    B = np.array([\n",
    "        [b[0], b[1], b[3]],\n",
    "        [b[1], b[2], b[4]],\n",
    "        [b[3], b[4], b[5]]\n",
    "    ], dtype=float)\n",
    "    if np.isclose(B[2,2], 0):\n",
    "        raise ValueError(\"Degenerate template homographies: B[2,2] ~ 0\")\n",
    "    B /= B[2,2]\n",
    "    return B\n",
    "\n",
    "\n",
    "def enforce_positive_definite(B: np.ndarray) -> np.ndarray:\n",
    "    \"\"\"\n",
    "    Clamp the eigenvalues of symmetric B to be >= epsilon, returning a PD matrix.\n",
    "    \"\"\"\n",
    "    eigvals, eigvecs = eig(B)\n",
    "    eigvals = np.real(eigvals)\n",
    "    eigvecs = np.real(eigvecs)\n",
    "    eigvals_clamped = np.clip(eigvals, 1e-6, None)\n",
    "    return eigvecs @ np.diag(eigvals_clamped) @ eigvecs.T\n",
    "\n",
    "\n",
    "def calibrate_from_homographies(Hs: List[np.ndarray]) -> Tuple[np.ndarray, np.ndarray]:\n",
    "    \"\"\"\n",
    "    Estimate K from planar homographies.\n",
    "\n",
    "    1. Solve for B = K^{-T}K^{-1}\n",
    "    2. Clamp B to PD\n",
    "    3. Invert and Cholesky: if cholesky(KKT, lower=False)=R s.t. R^T R=KKT,\n",
    "       then K = R is upper-triangular.\n",
    "    \"\"\"\n",
    "    # 1) Build and normalize B\n",
    "    B = solve_B_from_homographies(Hs)\n",
    "    # 2) Ensure positive-definiteness\n",
    "    B_pd = enforce_positive_definite(B)\n",
    "    # 3) Invert to get K K^T\n",
    "    KKT = inv(B_pd)\n",
    "    # Cholesky upper-triangular R s.t. R^T R = KKT\n",
    "    R = cholesky(KKT, lower=False)\n",
    "    K = R  # R is the intrinsic matrix K\n",
    "    return K, B_pd"
   ]
  },
  {
   "cell_type": "code",
   "execution_count": 9,
   "id": "40dbe40a",
   "metadata": {},
   "outputs": [
    {
     "name": "stdout",
     "output_type": "stream",
     "text": [
      "Estimated Camera Intrinsics K:\n",
      " [[ 9.99999996e+02  3.06470536e-06 -8.67807874e-02]\n",
      " [ 0.00000000e+00  9.99999999e+02  3.53339334e-02]\n",
      " [ 0.00000000e+00  0.00000000e+00  1.00000000e+00]]\n",
      "Estimated DIAC B:\n",
      " [[ 1.00753091e-06 -3.06630965e-09  8.67807878e-05]\n",
      " [-3.06630965e-09  1.00124849e-06 -3.53339335e-05]\n",
      " [ 8.67807878e-05 -3.53339335e-05  1.00000000e+00]]\n"
     ]
    }
   ],
   "source": [
    "# Calibrate camera intrinsics from the homographies\n",
    "K_est, B_est = calibrate_from_homographies([homography_T4, homography_T2, homography_T3])\n",
    "print(\"Estimated Camera Intrinsics K:\\n\", K_est)\n",
    "print(\"Estimated DIAC B:\\n\", B_est)"
   ]
  },
  {
   "cell_type": "code",
   "execution_count": 10,
   "id": "7ac875bc",
   "metadata": {},
   "outputs": [
    {
     "name": "stdout",
     "output_type": "stream",
     "text": [
      "Difference from Original K:\n",
      " [[-1.05326883e+02 -3.06470536e-06  4.85315740e+02]\n",
      " [ 0.00000000e+00 -1.03841051e+02  6.33000851e+02]\n",
      " [ 0.00000000e+00  0.00000000e+00  5.99520433e-15]]\n"
     ]
    }
   ],
   "source": [
    "# Difference from original K\n",
    "K_diff = K - K_est\n",
    "print(\"Difference from Original K:\\n\", K_diff)"
   ]
  }
 ],
 "metadata": {
  "kernelspec": {
   "display_name": "single-view-3d",
   "language": "python",
   "name": "python3"
  },
  "language_info": {
   "codemirror_mode": {
    "name": "ipython",
    "version": 3
   },
   "file_extension": ".py",
   "mimetype": "text/x-python",
   "name": "python",
   "nbconvert_exporter": "python",
   "pygments_lexer": "ipython3",
   "version": "3.12.3"
  }
 },
 "nbformat": 4,
 "nbformat_minor": 5
}
