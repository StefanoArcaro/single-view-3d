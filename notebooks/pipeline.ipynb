{
 "cells": [
  {
   "cell_type": "code",
   "execution_count": 1,
   "id": "143246c8",
   "metadata": {},
   "outputs": [],
   "source": [
    "# Set project root\n",
    "import os\n",
    "import sys\n",
    "\n",
    "# Manually set the path to the project root\n",
    "project_root = os.path.abspath(os.path.join(os.getcwd(), '..'))\n",
    "if project_root not in sys.path:\n",
    "    sys.path.append(project_root)"
   ]
  },
  {
   "cell_type": "code",
   "execution_count": 2,
   "id": "0b10e849",
   "metadata": {},
   "outputs": [],
   "source": [
    "from src.utils import load_measurements_from_yaml, load_calibration_json\n",
    "from src.pipeline.pipeline import run_pipeline\n",
    "from src.rendering.renderer import Renderer"
   ]
  },
  {
   "cell_type": "markdown",
   "id": "f2bc71fa",
   "metadata": {},
   "source": [
    "## **Main**"
   ]
  },
  {
   "cell_type": "code",
   "execution_count": 3,
   "id": "434da87d",
   "metadata": {},
   "outputs": [],
   "source": [
    "# Load measurement data\n",
    "data = load_measurements_from_yaml(\"../assets/measurements.yaml\")\n",
    "\n",
    "# Load camera calibration\n",
    "K, dist_coeffs, image_size = load_calibration_json(\"../assets/camera_calibration.json\")"
   ]
  },
  {
   "cell_type": "code",
   "execution_count": 4,
   "id": "a52bc76c",
   "metadata": {},
   "outputs": [],
   "source": [
    "# Run the pipeline for a specific scene\n",
    "scene_id = \"S12\"\n",
    "render_data, analysis_data = run_pipeline(data, scene_id, data.unit)"
   ]
  },
  {
   "cell_type": "code",
   "execution_count": 5,
   "id": "4b08701a",
   "metadata": {},
   "outputs": [
    {
     "name": "stdout",
     "output_type": "stream",
     "text": [
      "Serving HTTP on 0.0.0.0 port 8000 (http://0.0.0.0:8000/) ...\n"
     ]
    },
    {
     "name": "stderr",
     "output_type": "stream",
     "text": [
      "/usr/bin/xdg-open: 882: x-www-browser: Permission denied\n",
      "/usr/bin/xdg-open: 882: firefox: Permission denied\n",
      "/usr/bin/xdg-open: 882: iceweasel: Permission denied\n",
      "/usr/bin/xdg-open: 882: seamonkey: Permission denied\n",
      "/usr/bin/xdg-open: 882: mozilla: Permission denied\n",
      "/usr/bin/xdg-open: 882: epiphany: Permission denied\n",
      "/usr/bin/xdg-open: 882: konqueror: Permission denied\n",
      "/usr/bin/xdg-open: 882: chromium: Permission denied\n",
      "/usr/bin/xdg-open: 882: chromium-browser: Permission denied\n",
      "/usr/bin/xdg-open: 882: google-chrome: Permission denied\n",
      "/usr/bin/xdg-open: 882: www-browser: Permission denied\n",
      "/usr/bin/xdg-open: 882: links2: Permission denied\n",
      "/usr/bin/xdg-open: 882: elinks: Permission denied\n",
      "/usr/bin/xdg-open: 882: links: Permission denied\n",
      "/usr/bin/xdg-open: 882: lynx: Permission denied\n",
      "/usr/bin/xdg-open: 882: w3m: Permission denied\n",
      "xdg-open: no method available for opening 'http://localhost:8000/web/viewer.html'\n",
      "127.0.0.1 - - [02/Oct/2025 00:56:08] \"GET /web/viewer.html HTTP/1.1\" 200 -\n",
      "127.0.0.1 - - [02/Oct/2025 00:56:08] \"GET /web/static/js/viewer.js HTTP/1.1\" 200 -\n"
     ]
    }
   ],
   "source": [
    "renderer = Renderer(render_data=render_data, analysis_data=analysis_data)\n",
    "renderer._generate_html()\n",
    "renderer.show()"
   ]
  }
 ],
 "metadata": {
  "kernelspec": {
   "display_name": "single-view-3d",
   "language": "python",
   "name": "python3"
  },
  "language_info": {
   "codemirror_mode": {
    "name": "ipython",
    "version": 3
   },
   "file_extension": ".py",
   "mimetype": "text/x-python",
   "name": "python",
   "nbconvert_exporter": "python",
   "pygments_lexer": "ipython3",
   "version": "3.12.9"
  }
 },
 "nbformat": 4,
 "nbformat_minor": 5
}
