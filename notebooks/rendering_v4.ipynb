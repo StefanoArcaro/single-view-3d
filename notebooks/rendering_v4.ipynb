{
 "cells": [
  {
   "cell_type": "code",
   "execution_count": 1,
   "id": "542703c3",
   "metadata": {},
   "outputs": [],
   "source": [
    "# Set project root\n",
    "import os\n",
    "import sys\n",
    "\n",
    "# Manually set the path to the project root\n",
    "project_root = os.path.abspath(os.path.join(os.getcwd(), '..'))\n",
    "if project_root not in sys.path:\n",
    "    sys.path.append(project_root)"
   ]
  },
  {
   "cell_type": "code",
   "execution_count": 2,
   "id": "fecd1f53",
   "metadata": {},
   "outputs": [],
   "source": [
    "import matplotlib.pyplot as plt\n",
    "import numpy as np\n",
    "\n",
    "from src.geometry import (\n",
    "    compute_distance_from_homography,\n",
    "    derive_metric_homography,\n",
    "    recover_all_poses_from_homography,\n",
    "    select_best_solution,\n",
    ")\n",
    "from src.matching import template_match\n",
    "from src.data import load_measurements_from_yaml\n",
    "from src.utils import load_calibration_json\n",
    "from src.rendering import WebVisualizer"
   ]
  },
  {
   "cell_type": "markdown",
   "id": "c9c4f6a4",
   "metadata": {},
   "source": [
    "## **Analysis**"
   ]
  },
  {
   "cell_type": "code",
   "execution_count": 3,
   "id": "4bca8324",
   "metadata": {},
   "outputs": [],
   "source": [
    "# Load measurement data\n",
    "data = load_measurements_from_yaml(\"../assets/measurements.yaml\")\n",
    "\n",
    "# Load camera calibration\n",
    "K, dist_coeffs, image_size = load_calibration_json(\"../assets/camera_calibration.json\")\n",
    "\n",
    "scenes = data.get_all_scenes()"
   ]
  },
  {
   "cell_type": "code",
   "execution_count": 4,
   "id": "62716dde",
   "metadata": {},
   "outputs": [],
   "source": [
    "def analyze_scene(scene_id, scenes, K):\n",
    "    \"\"\"\n",
    "    This function analyzes a scene by executing the following steps:\n",
    "\n",
    "    1. Load the scene and the corresponding templates.\n",
    "    2. For each template, perform template matching against the scene image.\n",
    "    3. Compute the homography and recover the camera pose.\n",
    "    4. Compute the distance from the center of each template to the camera.\n",
    "    5. Return the results including the template ID, homography, camera pose, and distance.\n",
    "    \"\"\"\n",
    "    # Load scene and templates\n",
    "    scene = data.get_scene(scene_id)\n",
    "    templates = [data.get_template(t_id) for t_id in scenes[scene_id]]\n",
    "\n",
    "    # Iterate over templates\n",
    "    results = {}\n",
    "    for template in templates:\n",
    "        scene_path = os.path.join(project_root, scene.path)\n",
    "        template_path = os.path.join(project_root, template.path)\n",
    "\n",
    "        # Compute pixel-pixel homography\n",
    "        H, mask, t_shape, reprojection_error = template_match(template_path, scene_path, extract_method='SIFT', match_method='BF', plot=False)\n",
    "\n",
    "        template_size_px = plt.imread(template_path).shape[:2]\n",
    "\n",
    "        # Derive the metric-pixel homography\n",
    "        H_metric = derive_metric_homography(\n",
    "            H_px=H,\n",
    "            template_size_px=template_size_px,\n",
    "            template_size_metric=(template.height, template.width)\n",
    "        )\n",
    "\n",
    "        # Template center point\n",
    "        template_center_mm = np.array([template.width / 2, template.height / 2])\n",
    "\n",
    "        # Compute the distance from the camera to the template center\n",
    "        distance_pred = compute_distance_from_homography(\n",
    "            H_metric=H_metric,\n",
    "            K=K,\n",
    "            point_metric=template_center_mm\n",
    "        )\n",
    "\n",
    "        # True distance and error\n",
    "        distance_true = scene.get_distance('Camera', template.id).distance\n",
    "        error = np.abs(distance_pred - distance_true)\n",
    "        error_percent = (error / distance_true) * 100\n",
    "\n",
    "        results[template.id] = {\n",
    "            'homography': H_metric.tolist(),\n",
    "            'distance_pred': distance_pred,\n",
    "            'distance_true': distance_true,\n",
    "            'error': error,\n",
    "            'error_percent': error_percent,\n",
    "        }\n",
    "\n",
    "    return results"
   ]
  },
  {
   "cell_type": "code",
   "execution_count": 5,
   "id": "a81b4820",
   "metadata": {},
   "outputs": [],
   "source": [
    "# Analyze scene\n",
    "scene_id = 'S12'\n",
    "results = analyze_scene(scene_id, scenes, K)"
   ]
  },
  {
   "cell_type": "code",
   "execution_count": 6,
   "id": "5c521d83",
   "metadata": {},
   "outputs": [
    {
     "data": {
      "text/plain": [
       "dict_keys(['T2', 'T3', 'T4'])"
      ]
     },
     "execution_count": 6,
     "metadata": {},
     "output_type": "execute_result"
    }
   ],
   "source": [
    "# Load template metadata\n",
    "metadata = {t_id: data.get_template(t_id) for t_id in scenes[scene_id]}\n",
    "metadata.keys()"
   ]
  },
  {
   "cell_type": "code",
   "execution_count": 7,
   "id": "2e14d2b2",
   "metadata": {},
   "outputs": [
    {
     "name": "stdout",
     "output_type": "stream",
     "text": [
      "============================================================\n",
      "  3D WEB VISUALIZATION GENERATOR\n",
      "============================================================\n",
      "\n",
      "[1/5] Processing Template Poses\n",
      "     ----------------------------------------\n",
      "     | Generated 3 template meshes\n",
      "     ----------------------------------------\n",
      "\n",
      "[2/5] Creating Camera Visualization\n",
      "     ----------------------------------------\n",
      "     | Generated 4 line groups (axes + frustum)\n",
      "     ----------------------------------------\n",
      "\n",
      "[3/5] Loading HTML Template\n",
      "     ----------------------------------------\n",
      "     | Template loaded successfully\n",
      "     ----------------------------------------\n",
      "\n",
      "[4/5] Substituting Data Placeholders\n",
      "     ----------------------------------------\n",
      "     | Data integration complete\n",
      "     ----------------------------------------\n",
      "\n",
      "[5/5] Saving Visualization\n",
      "     ----------------------------------------\n",
      "     | File saved successfully\n",
      "     ----------------------------------------\n",
      "\n",
      "============================================================\n",
      "  VISUALIZATION COMPLETE!\n",
      "============================================================\n",
      "  >> Open 'visualization.html' in your browser\n",
      "  >> to view the 3D scene\n",
      "============================================================\n"
     ]
    }
   ],
   "source": [
    "# Create the web visualizer\n",
    "visualizer = WebVisualizer(\n",
    "    metadata=metadata,\n",
    "    results=results,\n",
    "    K=K\n",
    ")\n",
    "\n",
    "visualizer.generate_html()"
   ]
  }
 ],
 "metadata": {
  "kernelspec": {
   "display_name": ".venv",
   "language": "python",
   "name": "python3"
  },
  "language_info": {
   "codemirror_mode": {
    "name": "ipython",
    "version": 3
   },
   "file_extension": ".py",
   "mimetype": "text/x-python",
   "name": "python",
   "nbconvert_exporter": "python",
   "pygments_lexer": "ipython3",
   "version": "3.12.8"
  }
 },
 "nbformat": 4,
 "nbformat_minor": 5
}
